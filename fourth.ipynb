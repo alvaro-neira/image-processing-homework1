{
  "nbformat": 4,
  "nbformat_minor": 0,
  "metadata": {
    "colab": {
      "name": "fourth.ipynb",
      "provenance": [],
      "collapsed_sections": [],
      "machine_shape": "hm"
    },
    "kernelspec": {
      "name": "python3",
      "display_name": "Python 3"
    },
    "language_info": {
      "name": "python"
    },
    "accelerator": "GPU"
  },
  "cells": [
    {
      "cell_type": "code",
      "metadata": {
        "colab": {
          "base_uri": "https://localhost:8080/"
        },
        "id": "kK4MO-OKbEfE",
        "outputId": "dde600ca-9232-4e42-d36e-c363775956ec"
      },
      "source": [
        "%cd /content/\n",
        "!rm -rf convnet2\n",
        "# Clonamos el repositorio\n",
        "!git clone https://github.com/alvaro-neira/convnet2.git "
      ],
      "execution_count": 1,
      "outputs": [
        {
          "output_type": "stream",
          "name": "stdout",
          "text": [
            "/content\n",
            "Cloning into 'convnet2'...\n",
            "remote: Enumerating objects: 373, done.\u001b[K\n",
            "remote: Counting objects: 100% (373/373), done.\u001b[K\n",
            "remote: Compressing objects: 100% (255/255), done.\u001b[K\n",
            "remote: Total 373 (delta 237), reused 218 (delta 107), pack-reused 0\u001b[K\n",
            "Receiving objects: 100% (373/373), 216.14 KiB | 9.82 MiB/s, done.\n",
            "Resolving deltas: 100% (237/237), done.\n"
          ]
        }
      ]
    },
    {
      "cell_type": "markdown",
      "metadata": {
        "id": "1aIWqOC-H9Ky"
      },
      "source": [
        "## Preparación de los datos"
      ]
    },
    {
      "cell_type": "code",
      "metadata": {
        "colab": {
          "base_uri": "https://localhost:8080/"
        },
        "id": "xrRc75CPH6Bq",
        "outputId": "c254ae60-0bcc-42e1-c7c0-aecfef9b5276"
      },
      "source": [
        "# Crear directorios para datos y snapshots\n",
        "!mkdir -p /content/convnet2/snapshots\n",
        "!mkdir -p /content/convnet2/logs\n",
        "!mkdir -p /content/convnet2/data\n",
        "\n",
        "!ls convnet2"
      ],
      "execution_count": 2,
      "outputs": [
        {
          "output_type": "stream",
          "name": "stdout",
          "text": [
            "configs   models\t      ssearch.py\t     train_siamese.py\n",
            "data\t  README.md\t      ssearch_with_merge.py  train_simple.py\n",
            "datasets  release_siamese.py  test_tfrecords.py      utils\n",
            "logs\t  snapshots\t      train.py\n"
          ]
        }
      ]
    },
    {
      "cell_type": "code",
      "metadata": {
        "colab": {
          "base_uri": "https://localhost:8080/"
        },
        "id": "TN1mgM9pPd8E",
        "outputId": "3e0d4ae0-ab89-40a7-952e-b54ee35c7e32"
      },
      "source": [
        "# Descargar y descomprimir los datos\n",
        "%cd /content/convnet2/data\n",
        "!wget https://www.dropbox.com/sh/hsqjv0kd13xda3g/AABYkVk0ruG85s4aL4C1nDKaa -O data.zip\n",
        "!unzip -q -o data.zip\n",
        "!unzip -q -o train_images.zip\n",
        "!unzip -q -o test_images.zip\n",
        "!rm data.zip\n",
        "!rm train_images.zip\n",
        "!rm test_images.zip\n",
        "!ls"
      ],
      "execution_count": 3,
      "outputs": [
        {
          "output_type": "stream",
          "name": "stdout",
          "text": [
            "/content/convnet2/data\n",
            "--2021-11-14 01:30:08--  https://www.dropbox.com/sh/hsqjv0kd13xda3g/AABYkVk0ruG85s4aL4C1nDKaa\n",
            "Resolving www.dropbox.com (www.dropbox.com)... 162.125.1.18, 2620:100:6016:18::a27d:112\n",
            "Connecting to www.dropbox.com (www.dropbox.com)|162.125.1.18|:443... connected.\n",
            "HTTP request sent, awaiting response... 301 Moved Permanently\n",
            "Location: /sh/raw/hsqjv0kd13xda3g/AABYkVk0ruG85s4aL4C1nDKaa [following]\n",
            "--2021-11-14 01:30:08--  https://www.dropbox.com/sh/raw/hsqjv0kd13xda3g/AABYkVk0ruG85s4aL4C1nDKaa\n",
            "Reusing existing connection to www.dropbox.com:443.\n",
            "HTTP request sent, awaiting response... 302 Found\n",
            "Location: https://uc0355d5846e8238f0b322122e0f.dl.dropboxusercontent.com/zip_download_get/A9UYyyY6Tpx-4DQCS3Jr250kuQCDkap8Y53DaS4hTk0gCEiEdUO-TyLM2xpBVin6NniFpgpoON5_9jVFCkQ-q0TbOL9j3nZZpCqgX79sPb65og# [following]\n",
            "--2021-11-14 01:30:09--  https://uc0355d5846e8238f0b322122e0f.dl.dropboxusercontent.com/zip_download_get/A9UYyyY6Tpx-4DQCS3Jr250kuQCDkap8Y53DaS4hTk0gCEiEdUO-TyLM2xpBVin6NniFpgpoON5_9jVFCkQ-q0TbOL9j3nZZpCqgX79sPb65og\n",
            "Resolving uc0355d5846e8238f0b322122e0f.dl.dropboxusercontent.com (uc0355d5846e8238f0b322122e0f.dl.dropboxusercontent.com)... 162.125.1.15, 2620:100:6035:15::a27d:550f\n",
            "Connecting to uc0355d5846e8238f0b322122e0f.dl.dropboxusercontent.com (uc0355d5846e8238f0b322122e0f.dl.dropboxusercontent.com)|162.125.1.15|:443... connected.\n",
            "HTTP request sent, awaiting response... 200 OK\n",
            "Length: 144143461 (137M) [application/zip]\n",
            "Saving to: ‘data.zip’\n",
            "\n",
            "data.zip            100%[===================>] 137.47M   151MB/s    in 0.9s    \n",
            "\n",
            "2021-11-14 01:30:10 (151 MB/s) - ‘data.zip’ saved [144143461/144143461]\n",
            "\n",
            "warning:  stripped absolute path spec from /\n",
            "mapname:  conversion of  failed\n",
            "mapping.txt  test_images  train_images\n"
          ]
        }
      ]
    },
    {
      "cell_type": "markdown",
      "metadata": {
        "id": "P1fEg2jT_zRz"
      },
      "source": [
        "## Predicciones\n",
        "\n",
        "A continuación, veremos algunas predicciones de ejemplo utilizando los pesos aprendidos por este último modelo. Para esto, copiaremos el último checkpoint desde Google Drive a la sesión de Colab (si no se ha cerrado la sesión desde el entrenamiento, este paso no será necesario). Podemos acceder al contenido de nuestro Drive con el botón \"Activar unidad de Drive\" en el menú de la izquierda."
      ]
    },
    {
      "cell_type": "code",
      "metadata": {
        "colab": {
          "base_uri": "https://localhost:8080/"
        },
        "id": "-57pDIqTJ_rJ",
        "outputId": "07d05af0-e4bb-4853-97eb-ef0c611c262b"
      },
      "source": [
        "from google.colab import drive\n",
        "drive.mount('/content/drive')"
      ],
      "execution_count": 4,
      "outputs": [
        {
          "output_type": "stream",
          "name": "stdout",
          "text": [
            "Mounted at /content/drive\n"
          ]
        }
      ]
    },
    {
      "cell_type": "code",
      "metadata": {
        "colab": {
          "base_uri": "https://localhost:8080/",
          "height": 517
        },
        "id": "7q3hWFniEbZo",
        "outputId": "2cdf7743-049a-4a85-800c-a57ef356ca5a"
      },
      "source": [
        "from IPython.display import Image, display\n",
        "\n",
        "display(Image('/content/convnet2/data/test_images/bee/026_00119695.jpg', width=100, height=100))\n",
        "display(Image('/content/convnet2/data/test_images/cow/081_00122082.jpg', width=100, height=100))\n",
        "display(Image('/content/convnet2/data/test_images/sheep/258_00124921.jpg', width=100, height=100))\n",
        "display(Image('/content/convnet2/data/test_images/cat/064_00122151.jpg', width=100, height=100))\n",
        "display(Image('/content/convnet2/data/test_images/crocodile/084_00126855.jpg', width=100, height=100))"
      ],
      "execution_count": 5,
      "outputs": [
        {
          "output_type": "display_data",
          "data": {
            "image/jpeg": "[encoded data removed]",
            "text/plain": [
              "<IPython.core.display.Image object>"
            ]
          },
          "metadata": {
            "image/jpeg": {
              "width": 100,
              "height": 100
            }
          }
        },
        {
          "output_type": "display_data",
          "data": {
            "image/jpeg": "[encoded data removed]",
            "text/plain": [
              "<IPython.core.display.Image object>"
            ]
          },
          "metadata": {
            "image/jpeg": {
              "width": 100,
              "height": 100
            }
          }
        },
        {
          "output_type": "display_data",
          "data": {
            "image/jpeg": "[encoded data removed]",
            "text/plain": [
              "<IPython.core.display.Image object>"
            ]
          },
          "metadata": {
            "image/jpeg": {
              "width": 100,
              "height": 100
            }
          }
        },
        {
          "output_type": "display_data",
          "data": {
            "image/jpeg": "[encoded data removed]",
            "text/plain": [
              "<IPython.core.display.Image object>"
            ]
          },
          "metadata": {
            "image/jpeg": {
              "width": 100,
              "height": 100
            }
          }
        },
        {
          "output_type": "display_data",
          "data": {
            "image/jpeg": "[encoded data removed]",
            "text/plain": [
              "<IPython.core.display.Image object>"
            ]
          },
          "metadata": {
            "image/jpeg": {
              "width": 100,
              "height": 100
            }
          }
        }
      ]
    },
    {
      "cell_type": "code",
      "metadata": {
        "colab": {
          "base_uri": "https://localhost:8080/"
        },
        "id": "Mq_E1QyaBwfw",
        "outputId": "0d3a537a-c075-4590-95e7-ddb2c6680cf2"
      },
      "source": [
        "%cd /content/convnet2\n",
        "!git fetch --all\n",
        "!git checkout resnet34_prediction\n",
        "!git pull origin resnet34_prediction\n",
        "!cp /content/drive/MyDrive/tarea1/shape.dat /content/convnet2/data/shape.dat\n",
        "!cp /content/drive/MyDrive/tarea1/mean.dat /content/convnet2/data/mean.dat\n",
        "!python train_simple.py -mode predict -config configs/aneira_tfr.config -name SKETCH # no delay\n"
      ],
      "execution_count": 6,
      "outputs": [
        {
          "output_type": "stream",
          "name": "stdout",
          "text": [
            "/content/convnet2\n",
            "Fetching origin\n",
            "Branch 'resnet34_prediction' set up to track remote branch 'resnet34_prediction' from 'origin'.\n",
            "Switched to a new branch 'resnet34_prediction'\n",
            "From https://github.com/alvaro-neira/convnet2\n",
            " * branch            resnet34_prediction -> FETCH_HEAD\n",
            "Already up to date.\n",
            "2021-11-14 01:31:00.116628: W tensorflow/core/common_runtime/gpu/gpu_bfc_allocator.cc:39] Overriding allow_growth setting because the TF_FORCE_GPU_ALLOW_GROWTH environment variable is set. Original config value was 0.\n",
            "Model: \"res_net\"\n",
            "_________________________________________________________________\n",
            " Layer (type)                Output Shape              Param #   \n",
            "=================================================================\n",
            " backbone (ResNetBackbone)   multiple                  21298112  \n",
            "                                                                 \n",
            " global_average_pooling2d (G  multiple                 0         \n",
            " lobalAveragePooling2D)                                          \n",
            "                                                                 \n",
            " classifier (Dense)          multiple                  6156      \n",
            "                                                                 \n",
            "=================================================================\n",
            "Total params: 21,304,268\n",
            "Trainable params: 21,289,036\n",
            "Non-trainable params: 15,232\n",
            "_________________________________________________________________\n",
            "file :/content/convnet2/data/test_images/crocodile/084_00126855.jpg\n",
            "7 [0.9950268864631653]\n",
            "file :end\n"
          ]
        }
      ]
    },
    {
      "cell_type": "markdown",
      "metadata": {
        "id": "o4P90w9yI9IU"
      },
      "source": [
        "## Búsqueda por similitud\n",
        "\n"
      ]
    },
    {
      "cell_type": "code",
      "metadata": {
        "colab": {
          "base_uri": "https://localhost:8080/"
        },
        "id": "bf90G-Uh0pux",
        "outputId": "984bb13f-1474-4c20-c57c-c633d7bcc341"
      },
      "source": [
        "!mkdir -p /content/convnet2/data/sketch_folder\n",
        "%cd /content/convnet2/data/sketch_folder\n",
        "\n",
        "# Crear directorio para la búsqueda por similitud\n",
        "!mkdir -p ssearch\n"
      ],
      "execution_count": 7,
      "outputs": [
        {
          "output_type": "stream",
          "name": "stdout",
          "text": [
            "/content/convnet2/data/sketch_folder\n"
          ]
        }
      ]
    },
    {
      "cell_type": "code",
      "metadata": {
        "colab": {
          "base_uri": "https://localhost:8080/"
        },
        "id": "52o5vwdUYH0k",
        "outputId": "f8e98494-a890-4362-c13b-457d4d5211fa"
      },
      "source": [
        "# Calculamos los feature vectors <1 minuto\n",
        "%cd /content/convnet2/\n",
        "!git fetch --all\n",
        "!git checkout ssearch\n",
        "!git pull origin ssearch\n",
        "!cp data/shape.dat data/sketch_folder/shape.dat\n",
        "!cp data/mean.dat data/sketch_folder/mean.dat\n",
        "!cp /content/drive/MyDrive/tarea1/catalog.txt /content/convnet2/data/sketch_folder/ssearch/catalog.txt\n",
        "!python ssearch.py -config configs/aneira_tfr.config -name SKETCH -mode compute"
      ],
      "execution_count": 8,
      "outputs": [
        {
          "output_type": "stream",
          "name": "stdout",
          "text": [
            "/content/convnet2\n",
            "Fetching origin\n",
            "Branch 'ssearch' set up to track remote branch 'ssearch' from 'origin'.\n",
            "Switched to a new branch 'ssearch'\n",
            "From https://github.com/alvaro-neira/convnet2\n",
            " * branch            ssearch    -> FETCH_HEAD\n",
            "Already up to date.\n",
            "2021-11-14 01:31:59.355783: W tensorflow/core/common_runtime/gpu/gpu_bfc_allocator.cc:39] Overriding allow_growth setting because the TF_FORCE_GPU_ALLOW_GROWTH environment variable is set. Original config value was 0.\n",
            "Model: \"res_net\"\n",
            "_________________________________________________________________\n",
            " Layer (type)                Output Shape              Param #   \n",
            "=================================================================\n",
            " backbone (ResNetBackbone)   multiple                  21298112  \n",
            "                                                                 \n",
            " global_average_pooling2d (G  multiple                 0         \n",
            " lobalAveragePooling2D)                                          \n",
            "                                                                 \n",
            " classifier (Dense)          multiple                  0 (unused)\n",
            "                                                                 \n",
            "=================================================================\n",
            "Total params: 21,298,112\n",
            "Trainable params: 21,282,880\n",
            "Non-trainable params: 15,232\n",
            "_________________________________________________________________\n",
            "WARNING:tensorflow:Skipping loading of weights for layer #2 (named classifier) due to mismatch in number of weights. Layer expects 0 weight(s). Received 2 saved weight(s)\n",
            "sim_model was loaded OK\n",
            "loading catalog ...\n",
            "loading catalog ok ...\n",
            "reading 0\n",
            "reading 1000\n",
            "reading 2000\n",
            "iter 0 / 19\n",
            "iter 1 / 19\n",
            "iter 2 / 19\n",
            "iter 3 / 19\n",
            "iter 4 / 19\n",
            "iter 5 / 19\n",
            "iter 6 / 19\n",
            "iter 7 / 19\n",
            "iter 8 / 19\n",
            "iter 9 / 19\n",
            "iter 10 / 19\n",
            "iter 11 / 19\n",
            "iter 12 / 19\n",
            "iter 13 / 19\n",
            "iter 14 / 19\n",
            "iter 15 / 19\n",
            "iter 16 / 19\n",
            "iter 17 / 19\n",
            "iter 18 / 19\n",
            "fvs (2399, 512)\n",
            "fvs saved at /content/convnet2/data/sketch_folder/ssearch/features.np\n",
            "fshape saved at /content/convnet2/data/sketch_folder/ssearch/features_shape.np\n"
          ]
        }
      ]
    },
    {
      "cell_type": "code",
      "metadata": {
        "id": "SkdVcRm9jefa",
        "colab": {
          "base_uri": "https://localhost:8080/"
        },
        "outputId": "80e1119b-8b60-4c52-ce5f-88270c36a2a9"
      },
      "source": [
        "# Hacemos la búsqueda por similitud \n",
        "!python ssearch.py -config configs/aneira_tfr.config -name SKETCH -mode search"
      ],
      "execution_count": 9,
      "outputs": [
        {
          "output_type": "stream",
          "name": "stdout",
          "text": [
            "2021-11-14 01:33:21.925301: W tensorflow/core/common_runtime/gpu/gpu_bfc_allocator.cc:39] Overriding allow_growth setting because the TF_FORCE_GPU_ALLOW_GROWTH environment variable is set. Original config value was 0.\n",
            "Model: \"res_net\"\n",
            "_________________________________________________________________\n",
            " Layer (type)                Output Shape              Param #   \n",
            "=================================================================\n",
            " backbone (ResNetBackbone)   multiple                  21298112  \n",
            "                                                                 \n",
            " global_average_pooling2d (G  multiple                 0         \n",
            " lobalAveragePooling2D)                                          \n",
            "                                                                 \n",
            " classifier (Dense)          multiple                  0 (unused)\n",
            "                                                                 \n",
            "=================================================================\n",
            "Total params: 21,298,112\n",
            "Trainable params: 21,282,880\n",
            "Non-trainable params: 15,232\n",
            "_________________________________________________________________\n",
            "WARNING:tensorflow:Skipping loading of weights for layer #2 (named classifier) due to mismatch in number of weights. Layer expects 0 weight(s). Received 2 saved weight(s)\n",
            "sim_model was loaded OK\n",
            "loading catalog ...\n",
            "loading catalog ok ...\n",
            "features loaded ok\n",
            "Query:/content/convnet2/data/test_images/crocodile/084_00126855.jpg\n",
            "result saved at ./084_00126855.jpg_result.png\n",
            "Query:quit\n"
          ]
        }
      ]
    },
    {
      "cell_type": "code",
      "metadata": {
        "colab": {
          "base_uri": "https://localhost:8080/"
        },
        "id": "b9gNBAb26gW1",
        "outputId": "b2faf109-5bab-40a7-eefa-215b365d220d"
      },
      "source": [
        "# Hacemos la búsqueda por similitud [1:91]\n",
        "!git fetch --all\n",
        "!git checkout metrics\n",
        "!git pull origin metrics\n",
        "!python ssearch.py -config configs/aneira_tfr.config -name SKETCH -mode search"
      ],
      "execution_count": 10,
      "outputs": [
        {
          "output_type": "stream",
          "name": "stdout",
          "text": [
            "Fetching origin\n",
            "Branch 'metrics' set up to track remote branch 'metrics' from 'origin'.\n",
            "Switched to a new branch 'metrics'\n",
            "From https://github.com/alvaro-neira/convnet2\n",
            " * branch            metrics    -> FETCH_HEAD\n",
            "Already up to date.\n",
            "2021-11-14 01:34:46.575748: W tensorflow/core/common_runtime/gpu/gpu_bfc_allocator.cc:39] Overriding allow_growth setting because the TF_FORCE_GPU_ALLOW_GROWTH environment variable is set. Original config value was 0.\n",
            "Model: \"res_net\"\n",
            "_________________________________________________________________\n",
            " Layer (type)                Output Shape              Param #   \n",
            "=================================================================\n",
            " backbone (ResNetBackbone)   multiple                  21298112  \n",
            "                                                                 \n",
            " global_average_pooling2d (G  multiple                 0         \n",
            " lobalAveragePooling2D)                                          \n",
            "                                                                 \n",
            " classifier (Dense)          multiple                  0 (unused)\n",
            "                                                                 \n",
            "=================================================================\n",
            "Total params: 21,298,112\n",
            "Trainable params: 21,282,880\n",
            "Non-trainable params: 15,232\n",
            "_________________________________________________________________\n",
            "WARNING:tensorflow:Skipping loading of weights for layer #2 (named classifier) due to mismatch in number of weights. Layer expects 0 weight(s). Received 2 saved weight(s)\n",
            "sim_model was loaded OK\n",
            "loading catalog ...\n",
            "loading catalog ok ...\n",
            "features loaded ok\n",
            "Query:/content/convnet2/data/test_images/crocodile/084_00126855.jpg\n",
            "result saved at ./084_00126855.jpg_result.png\n",
            "Query:quit\n"
          ]
        }
      ]
    }
  ]
}